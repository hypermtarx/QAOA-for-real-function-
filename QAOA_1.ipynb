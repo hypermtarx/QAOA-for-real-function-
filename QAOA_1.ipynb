{
  "nbformat": 4,
  "nbformat_minor": 0,
  "metadata": {
    "colab": {
      "name": "QAOA-1.ipynb",
      "provenance": []
    },
    "kernelspec": {
      "name": "python3",
      "display_name": "Python 3"
    },
    "language_info": {
      "name": "python"
    }
  },
  "cells": [
    {
      "cell_type": "code",
      "metadata": {
        "id": "Ym1Y5wqMjwqc"
      },
      "source": [
        "pip install qiskit"
      ],
      "execution_count": null,
      "outputs": []
    },
    {
      "cell_type": "code",
      "metadata": {
        "id": "QA7zZrLFkPo7"
      },
      "source": [
        "pip install qiskit[visualization]"
      ],
      "execution_count": null,
      "outputs": []
    },
    {
      "cell_type": "code",
      "metadata": {
        "id": "ND12NSCIjQLh"
      },
      "source": [
        "import networkx as nx\n",
        "import matplotlib.pyplot as plt"
      ],
      "execution_count": null,
      "outputs": []
    },
    {
      "cell_type": "code",
      "metadata": {
        "colab": {
          "base_uri": "https://localhost:8080/",
          "height": 122
        },
        "id": "mqyLvhYhjjCh",
        "outputId": "9ce1f064-b576-4323-99e7-7896aff4c8ac"
      },
      "source": [
        "from qiskit import QuantumCircuit, ClassicalRegister, QuantumRegister\n",
        "from qiskit import Aer, execute\n",
        "from qiskit.circuit import Parameter\n",
        "\n",
        "nqubits = 3\n",
        "\n",
        "beta = Parameter(\"beta\")\n",
        "qc_mix = QuantumCircuit(nqubits)\n",
        "for i in range(0, nqubits):\n",
        "    qc_mix.rx(2 * beta, i)\n",
        "    \n",
        "qc_mix.draw()"
      ],
      "execution_count": null,
      "outputs": [
        {
          "output_type": "execute_result",
          "data": {
            "text/html": [
              "<pre style=\"word-wrap: normal;white-space: pre;background: #fff0;line-height: 1.1;font-family: &quot;Courier New&quot;,Courier,monospace\">     ┌────────────┐\n",
              "q_0: ┤ Rx(2*beta) ├\n",
              "     ├────────────┤\n",
              "q_1: ┤ Rx(2*beta) ├\n",
              "     ├────────────┤\n",
              "q_2: ┤ Rx(2*beta) ├\n",
              "     └────────────┘</pre>"
            ],
            "text/plain": [
              "     ┌────────────┐\n",
              "q_0: ┤ Rx(2*beta) ├\n",
              "     ├────────────┤\n",
              "q_1: ┤ Rx(2*beta) ├\n",
              "     ├────────────┤\n",
              "q_2: ┤ Rx(2*beta) ├\n",
              "     └────────────┘"
            ]
          },
          "metadata": {
            "tags": []
          },
          "execution_count": 4
        }
      ]
    },
    {
      "cell_type": "code",
      "metadata": {
        "colab": {
          "base_uri": "https://localhost:8080/",
          "height": 137
        },
        "id": "7tBBjkz9jrWx",
        "outputId": "790cdd7b-d4c8-4274-beee-8b2064e5ad29"
      },
      "source": [
        "gamma = Parameter(\"$\\\\gamma$\")\n",
        "qc_p = QuantumCircuit(nqubits)\n",
        "qc_p.rz(2* gamma,0)\n",
        "qc_p.rzz(2 * gamma, 1, 2)\n",
        "qc_p.rz(2*gamma, 1)\n",
        "qc_p.rz(2*gamma, 2)\n",
        "qc_p.barrier()\n",
        "\n",
        "qc_p.decompose().draw()"
      ],
      "execution_count": null,
      "outputs": [
        {
          "output_type": "execute_result",
          "data": {
            "text/html": [
              "<pre style=\"word-wrap: normal;white-space: pre;background: #fff0;line-height: 1.1;font-family: &quot;Courier New&quot;,Courier,monospace\">global phase: -3.0*$\\gamma$\n",
              "     ┌────────────────┐                                          ░ \n",
              "q_0: ┤ U1(2*$\\gamma$) ├──────────────────────────────────────────░─\n",
              "     └────────────────┘                       ┌────────────────┐ ░ \n",
              "q_1: ────────■─────────────────────────────■──┤ U1(2*$\\gamma$) ├─░─\n",
              "           ┌─┴─┐       ┌────────────────┐┌─┴─┐├────────────────┤ ░ \n",
              "q_2: ──────┤ X ├───────┤ Rz(2*$\\gamma$) ├┤ X ├┤ U1(2*$\\gamma$) ├─░─\n",
              "           └───┘       └────────────────┘└───┘└────────────────┘ ░ </pre>"
            ],
            "text/plain": [
              "global phase: -3.0*$\\gamma$\n",
              "     ┌────────────────┐                                          ░ \n",
              "q_0: ┤ U1(2*$\\gamma$) ├──────────────────────────────────────────░─\n",
              "     └────────────────┘                       ┌────────────────┐ ░ \n",
              "q_1: ────────■─────────────────────────────■──┤ U1(2*$\\gamma$) ├─░─\n",
              "           ┌─┴─┐       ┌────────────────┐┌─┴─┐├────────────────┤ ░ \n",
              "q_2: ──────┤ X ├───────┤ Rz(2*$\\gamma$) ├┤ X ├┤ U1(2*$\\gamma$) ├─░─\n",
              "           └───┘       └────────────────┘└───┘└────────────────┘ ░ "
            ]
          },
          "metadata": {
            "tags": []
          },
          "execution_count": 5
        }
      ]
    },
    {
      "cell_type": "code",
      "metadata": {
        "colab": {
          "base_uri": "https://localhost:8080/",
          "height": 122
        },
        "id": "MNBWssFMkp5b",
        "outputId": "d3f68b3a-9550-4eca-d335-d854056ce3c4"
      },
      "source": [
        "qc_0 = QuantumCircuit(nqubits)\n",
        "for i in range(0, nqubits):\n",
        "    qc_0.h(i)\n",
        "    \n",
        "qc_0.draw()"
      ],
      "execution_count": null,
      "outputs": [
        {
          "output_type": "execute_result",
          "data": {
            "text/html": [
              "<pre style=\"word-wrap: normal;white-space: pre;background: #fff0;line-height: 1.1;font-family: &quot;Courier New&quot;,Courier,monospace\">     ┌───┐\n",
              "q_0: ┤ H ├\n",
              "     ├───┤\n",
              "q_1: ┤ H ├\n",
              "     ├───┤\n",
              "q_2: ┤ H ├\n",
              "     └───┘</pre>"
            ],
            "text/plain": [
              "     ┌───┐\n",
              "q_0: ┤ H ├\n",
              "     ├───┤\n",
              "q_1: ┤ H ├\n",
              "     ├───┤\n",
              "q_2: ┤ H ├\n",
              "     └───┘"
            ]
          },
          "metadata": {
            "tags": []
          },
          "execution_count": 6
        }
      ]
    },
    {
      "cell_type": "code",
      "metadata": {
        "colab": {
          "base_uri": "https://localhost:8080/",
          "height": 242
        },
        "id": "PuyNIhMhksw4",
        "outputId": "9dd622f9-266f-42a1-f65d-edb9a6fefe3e"
      },
      "source": [
        "qc_qaoa = QuantumCircuit(nqubits)\n",
        "\n",
        "qc_qaoa.append(qc_0, [i for i in range(0, nqubits)])\n",
        "qc_qaoa.append(qc_p, [i for i in range(0, nqubits)])\n",
        "qc_qaoa.append(qc_mix, [i for i in range(0, nqubits)])\n",
        "\n",
        "\n",
        "qc_qaoa.decompose().decompose().draw()"
      ],
      "execution_count": null,
      "outputs": [
        {
          "output_type": "execute_result",
          "data": {
            "text/html": [
              "<pre style=\"word-wrap: normal;white-space: pre;background: #fff0;line-height: 1.1;font-family: &quot;Courier New&quot;,Courier,monospace\">global phase: -3.0*$\\gamma$\n",
              "     ┌─────────┐┌────────────────┐                                          ░ »\n",
              "q_0: ┤ U2(0,π) ├┤ U1(2*$\\gamma$) ├──────────────────────────────────────────░─»\n",
              "     ├─────────┤└────────────────┘                       ┌────────────────┐ ░ »\n",
              "q_1: ┤ U2(0,π) ├────────■─────────────────────────────■──┤ U1(2*$\\gamma$) ├─░─»\n",
              "     ├─────────┤      ┌─┴─┐       ┌────────────────┐┌─┴─┐├────────────────┤ ░ »\n",
              "q_2: ┤ U2(0,π) ├──────┤ X ├───────┤ Rz(2*$\\gamma$) ├┤ X ├┤ U1(2*$\\gamma$) ├─░─»\n",
              "     └─────────┘      └───┘       └────────────────┘└───┘└────────────────┘ ░ »\n",
              "«     ┌─────────────┐\n",
              "«q_0: ┤ R(2*beta,0) ├\n",
              "«     ├─────────────┤\n",
              "«q_1: ┤ R(2*beta,0) ├\n",
              "«     ├─────────────┤\n",
              "«q_2: ┤ R(2*beta,0) ├\n",
              "«     └─────────────┘</pre>"
            ],
            "text/plain": [
              "global phase: -3.0*$\\gamma$\n",
              "     ┌─────────┐┌────────────────┐                                          ░ »\n",
              "q_0: ┤ U2(0,π) ├┤ U1(2*$\\gamma$) ├──────────────────────────────────────────░─»\n",
              "     ├─────────┤└────────────────┘                       ┌────────────────┐ ░ »\n",
              "q_1: ┤ U2(0,π) ├────────■─────────────────────────────■──┤ U1(2*$\\gamma$) ├─░─»\n",
              "     ├─────────┤      ┌─┴─┐       ┌────────────────┐┌─┴─┐├────────────────┤ ░ »\n",
              "q_2: ┤ U2(0,π) ├──────┤ X ├───────┤ Rz(2*$\\gamma$) ├┤ X ├┤ U1(2*$\\gamma$) ├─░─»\n",
              "     └─────────┘      └───┘       └────────────────┘└───┘└────────────────┘ ░ »\n",
              "«     ┌─────────────┐\n",
              "«q_0: ┤ R(2*beta,0) ├\n",
              "«     ├─────────────┤\n",
              "«q_1: ┤ R(2*beta,0) ├\n",
              "«     ├─────────────┤\n",
              "«q_2: ┤ R(2*beta,0) ├\n",
              "«     └─────────────┘"
            ]
          },
          "metadata": {
            "tags": []
          },
          "execution_count": 7
        }
      ]
    },
    {
      "cell_type": "code",
      "metadata": {
        "id": "RspXVatektqF",
        "colab": {
          "base_uri": "https://localhost:8080/"
        },
        "outputId": "127bc2f6-c7d9-4257-fc36-f72df2185630"
      },
      "source": [
        "def compute_expectation(counts):\n",
        "    avg = 0\n",
        "    sum_count = 0\n",
        "    for bitstring, count in counts.items():\n",
        "        \n",
        "        obj = 1\n",
        "        avg += obj * count\n",
        "        sum_count += count\n",
        "        \n",
        "    return avg/sum_count\n",
        "\n",
        "\n",
        "# We will also bring the different circuit components that\n",
        "# build the qaoa circuit under a single function\n",
        "def create_qaoa_circ(theta):\n",
        "    \n",
        "    \n",
        "    nqubits = 6\n",
        "    p = len(theta)//2  # number of alternating unitaries\n",
        "    qc = QuantumCircuit(nqubits)\n",
        "    \n",
        "    beta = theta[:p]\n",
        "    gamma = theta[p:]\n",
        "    \n",
        "    # initial_state\n",
        "    for i in range(0, nqubits):\n",
        "        qc.h(i)\n",
        "    \n",
        "    for irep in range(0, p):\n",
        "        \n",
        "        # problem unitary\n",
        "        qc.rz(2 * gamma[irep],0)\n",
        "        qc.rzz(2 * gamma[irep], 1, 2)\n",
        "        qc.rz(2 * gamma[irep],1)\n",
        "        qc.rz(2 * gamma[irep],2)\n",
        "        qc.rz(2 * gamma[irep],3)\n",
        "        qc.rzz(2 * gamma[irep], 4, 5)\n",
        "        qc.rz(2 * gamma[irep],4)\n",
        "        qc.rz(2 * gamma[irep],5)\n",
        "        # mixer unitary\n",
        "        for i in range(0, nqubits):\n",
        "            qc.rx(2 * beta[irep], i)\n",
        "            \n",
        "    qc.measure_all()\n",
        "    #qc.decompose().decompose().draw()\n",
        "    return qc\n",
        "print(get_expectation(1))\n",
        "# Finally we write a function that executes the circuit on the chosen backend\n",
        "def get_expectation(p, shots=512):\n",
        "    \n",
        "    \n",
        "    \n",
        "    backend = Aer.get_backend('qasm_simulator')\n",
        "    backend.shots = shots\n",
        "    \n",
        "    def execute_circ(theta):\n",
        "        \n",
        "        qc = create_qaoa_circ(theta)\n",
        "        counts = backend.run(qc, seed_simulator=10, \n",
        "                             nshots=512).result().get_counts()\n",
        "        #qc.decompose().decompose().draw()\n",
        "        return compute_expectation(counts)\n",
        "    \n",
        "    return execute_circ"
      ],
      "execution_count": null,
      "outputs": [
        {
          "output_type": "stream",
          "text": [
            "<function get_expectation.<locals>.execute_circ at 0x7f61c88c0cb0>\n"
          ],
          "name": "stdout"
        }
      ]
    },
    {
      "cell_type": "code",
      "metadata": {
        "colab": {
          "base_uri": "https://localhost:8080/"
        },
        "id": "PVr-56Vvk0xe",
        "outputId": "2cc891be-da29-4240-e06c-5b5e9423523f"
      },
      "source": [
        "from scipy.optimize import minimize\n",
        "\n",
        "\n",
        "expectation = get_expectation(p=2)\n",
        "\n",
        "res = minimize(expectation, [1.0, 1.0], method='COBYLA')\n",
        "res"
      ],
      "execution_count": null,
      "outputs": [
        {
          "output_type": "execute_result",
          "data": {
            "text/plain": [
              "     fun: 1.0\n",
              "   maxcv: 0.0\n",
              " message: 'Optimization terminated successfully.'\n",
              "    nfev: 13\n",
              "  status: 1\n",
              " success: True\n",
              "       x: array([1., 1.])"
            ]
          },
          "metadata": {
            "tags": []
          },
          "execution_count": 13
        }
      ]
    },
    {
      "cell_type": "code",
      "metadata": {
        "colab": {
          "base_uri": "https://localhost:8080/",
          "height": 365
        },
        "id": "_u2rGRcik5iI",
        "outputId": "4638b52d-d315-4b79-d549-6a5373d40e69"
      },
      "source": [
        "from qiskit.visualization import plot_histogram\n",
        "\n",
        "backend = Aer.get_backend('aer_simulator')\n",
        "backend.shots = 512\n",
        "\n",
        "qc_res = create_qaoa_circ(res.x)\n",
        "\n",
        "counts = backend.run(qc_res, seed_simulator=10).result().get_counts()\n",
        "\n",
        "plot_histogram(counts)"
      ],
      "execution_count": null,
      "outputs": [
        {
          "output_type": "execute_result",
          "data": {
            "image/png": "[encoded data removed]",
            "text/plain": [
              "<Figure size 504x360 with 1 Axes>"
            ]
          },
          "metadata": {
            "tags": []
          },
          "execution_count": 14
        }
      ]
    },
    {
      "cell_type": "code",
      "metadata": {
        "id": "cmE-Xq2Ck8vD"
      },
      "source": [
        ""
      ],
      "execution_count": null,
      "outputs": []
    }
  ]
}